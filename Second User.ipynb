{
 "cells": [
  {
   "cell_type": "code",
   "execution_count": null,
   "metadata": {},
   "outputs": [],
   "source": [
    "import time, socket, sys\n",
    "socket_server = socket.socket()\n",
    "server_host = socket.gethostname()\n",
    "ip = socket.gethostbyname(server_host)\n",
    "sport = 8080\n",
    "name = input(\"Enter your name: \")\n",
    "server_host = \"192.168.43.7\" # Enter host IP Adress\n",
    "socket_server.connect((server_host, sport))\n",
    "socket_server.send(name.encode())\n",
    "server_name = socket_server.recv(1024)\n",
    "server_name = server_name.decode()\n",
    "print(\"\\t\",server_name , \"joined...\")\n",
    "while True:\n",
    "    message = (socket_server.recv(1024)).decode()\n",
    "    if message ==\"exit\":\n",
    "        break\n",
    "    print(server_name, \":\", message)\n",
    "    message = input(\"You: \")\n",
    "    socket_server.send(message.encode()) \n",
    "    \n",
    "print(\"\\n\"+server_name +\" exits the chat\")"
   ]
  }
 ],
 "metadata": {
  "kernelspec": {
   "display_name": "Python 3",
   "language": "python",
   "name": "python3"
  },
  "language_info": {
   "codemirror_mode": {
    "name": "ipython",
    "version": 3
   },
   "file_extension": ".py",
   "mimetype": "text/x-python",
   "name": "python",
   "nbconvert_exporter": "python",
   "pygments_lexer": "ipython3",
   "version": "3.7.6"
  }
 },
 "nbformat": 4,
 "nbformat_minor": 4
}
